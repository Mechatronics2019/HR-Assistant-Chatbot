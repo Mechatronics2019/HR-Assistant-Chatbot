{
 "cells": [
  {
   "cell_type": "markdown",
   "metadata": {},
   "source": [
    "Importing OpenAI API Key"
   ]
  },
  {
   "cell_type": "code",
   "execution_count": null,
   "metadata": {},
   "outputs": [],
   "source": [
    "import os\n",
    "from dotenv import load_dotenv,find_dotenv\n",
    "from langchain_openai import OpenAI\n",
    "\n",
    "load_dotenv(find_dotenv())\n",
    "OpenAI(api_key = os.environ.get('OPENAI_API_KEY'))"
   ]
  },
  {
   "cell_type": "markdown",
   "metadata": {},
   "source": [
    "Loading & Splitting Documents into Chunks"
   ]
  },
  {
   "cell_type": "code",
   "execution_count": 2,
   "metadata": {},
   "outputs": [],
   "source": [
    "from langchain.document_loaders import PyPDFDirectoryLoader\n",
    "from langchain.text_splitter import RecursiveCharacterTextSplitter\n",
    "\n",
    "def load_split_document():\n",
    "    loader = PyPDFDirectoryLoader('Documents/')\n",
    "    print\n",
    "    docs = loader.load_and_split(RecursiveCharacterTextSplitter(separators=['\\n\\n','\\n','.',','],\n",
    "                                                chunk_size = 600,\n",
    "                                                chunk_overlap = 100)\n",
    "                                        )\n",
    "    return docs"
   ]
  },
  {
   "cell_type": "markdown",
   "metadata": {},
   "source": [
    "Converting Text Data to Vectors and Storing in Vector-DataBase "
   ]
  },
  {
   "cell_type": "code",
   "execution_count": 3,
   "metadata": {},
   "outputs": [],
   "source": [
    "# from langchain.vectorstores.chroma import Chroma\n",
    "from langchain_openai.embeddings import OpenAIEmbeddings\n",
    "from langchain.vectorstores.faiss import FAISS\n",
    "\n",
    "docs = load_split_document() ## LOADING DATA AND SPLITTING INTO CHUNKS\n",
    "# vector_store = Chroma.from_documents(documents=docs ,embedding=OpenAIEmbeddings()) ### SAVING DATA INTO DB\n",
    "vector_store = FAISS.from_documents(documents=docs ,embedding=OpenAIEmbeddings()) ### SAVING DATA INTO DB"
   ]
  },
  {
   "cell_type": "markdown",
   "metadata": {},
   "source": [
    "Adding Memory Element to the Chatbot"
   ]
  },
  {
   "cell_type": "code",
   "execution_count": 15,
   "metadata": {},
   "outputs": [],
   "source": [
    "from langchain.memory import ConversationBufferMemory\n",
    "memory = ConversationBufferMemory(\n",
    "    memory_key=\"chat_history\",\n",
    "    return_messages=True,\n",
    "    input_key='question'\n",
    ")"
   ]
  },
  {
   "cell_type": "markdown",
   "metadata": {},
   "source": [
    "Defining Custom Prompt for our chatbot"
   ]
  },
  {
   "cell_type": "code",
   "execution_count": 16,
   "metadata": {},
   "outputs": [],
   "source": [
    "from langchain.prompts import PromptTemplate\n",
    "template = '''You are an HR assistant chatbot for Devsloop Technologies. Follow these guidelines:\n",
    "\n",
    "1-Greeting and Personalization: Respond to greetings appropriately.Whenever a user gives his name, refer to them by their name throughout the conversation.\n",
    "\n",
    "2-Answering Questions: Only answer questions related to Devsloop Technologies based on the provided context and question. Do not generate information on your own.\n",
    "\n",
    "3-Follow-Up Question: If the user asks a follow-up question use Chathistory to answer the question accordingly.Also use Chathistory to maintain the flow of conversation.\n",
    "\n",
    "3-Handling Unknown Information: If the required information is not available, respond with \"I'm sorry, I don't know. I am just an HR assistant.\"\n",
    "\n",
    "4-Responses to Gratitude: If the user expresses gratitude (e.g., \"Thank you for your help\"), respond with a polite acknowledgment, such as \"You're welcome! If you have any more questions, feel free to ask.\"\n",
    "\n",
    "Here's an example prompt:\n",
    "\n",
    "User: \"Hello, I am Alex.\"\n",
    "\n",
    "Chatbot: \"Hello, Alex! How can I assist you today?\"\n",
    "\n",
    "User: \"What is the procedure to apply for an internship?\"\n",
    "\n",
    "Chatbot: \"Interested candidates can apply through our website by submitting their resume and a cover letter.\"\n",
    "\n",
    "User: \"What to do after that?\"\n",
    "\n",
    "Chatbot: 'Shortlisted candidates will be invited for an interview and technical assessment.'\n",
    "\n",
    "\n",
    "\n",
    "Context : {context}\n",
    "---\n",
    "Chathistory : {chat_history}\n",
    "---\n",
    "Question :{question}\n",
    "---\n",
    "Answer :\n",
    "'''\n",
    "prompt_template = PromptTemplate(input_variables=['context','question','chat_history'],template=template)"
   ]
  },
  {
   "cell_type": "code",
   "execution_count": 17,
   "metadata": {},
   "outputs": [],
   "source": [
    "from langchain.chains.conversational_retrieval.base import ConversationalRetrievalChain\n",
    "from langchain_openai import ChatOpenAI\n",
    "from langchain.chains.question_answering import load_qa_chain\n",
    "\n",
    "llm = ChatOpenAI(temperature=0  ,max_tokens=100)\n",
    "chain = load_qa_chain(llm=llm,chain_type='stuff',memory=memory,prompt=prompt_template)"
   ]
  },
  {
   "cell_type": "markdown",
   "metadata": {},
   "source": [
    "Retrieve Relevant Documents"
   ]
  },
  {
   "cell_type": "code",
   "execution_count": 18,
   "metadata": {},
   "outputs": [],
   "source": [
    "def get_response(question:str):\n",
    "    context = vector_store.max_marginal_relevance_search(question,k=2,fetch_k=4)\n",
    "    response = chain.run(input_documents=context,question=question)\n",
    "    return response"
   ]
  },
  {
   "cell_type": "markdown",
   "metadata": {},
   "source": [
    "Testing"
   ]
  },
  {
   "cell_type": "code",
   "execution_count": 19,
   "metadata": {},
   "outputs": [
    {
     "data": {
      "text/plain": [
       "'Hello! How can I assist you today?'"
      ]
     },
     "execution_count": 19,
     "metadata": {},
     "output_type": "execute_result"
    }
   ],
   "source": [
    "get_response('Hi')"
   ]
  },
  {
   "cell_type": "code",
   "execution_count": 20,
   "metadata": {},
   "outputs": [
    {
     "data": {
      "text/plain": [
       "'Hello, Adam! How can I assist you today?'"
      ]
     },
     "execution_count": 20,
     "metadata": {},
     "output_type": "execute_result"
    }
   ],
   "source": [
    "get_response('My name is Adam')"
   ]
  },
  {
   "cell_type": "code",
   "execution_count": 21,
   "metadata": {},
   "outputs": [
    {
     "data": {
      "text/plain": [
       "\"I'm sorry, I don't know. I am just an HR assistant.\""
      ]
     },
     "execution_count": 21,
     "metadata": {},
     "output_type": "execute_result"
    }
   ],
   "source": [
    "get_response('What do you know about fluid dynamics')"
   ]
  },
  {
   "cell_type": "code",
   "execution_count": 22,
   "metadata": {},
   "outputs": [
    {
     "data": {
      "text/plain": [
       "'Devsloop Technologies is a renowned software house committed to delivering cutting-edge software solutions. With a team of experienced professionals, Devsloop Technologies excels in various domains, including web development, mobile application development, AI and machine learning, and cloud computing. Our mission is to empower businesses by providing innovative and efficient technological solutions tailored to meet their unique needs.'"
      ]
     },
     "execution_count": 22,
     "metadata": {},
     "output_type": "execute_result"
    }
   ],
   "source": [
    "get_response('What do you know about Devsloop')"
   ]
  },
  {
   "cell_type": "code",
   "execution_count": 23,
   "metadata": {},
   "outputs": [
    {
     "data": {
      "text/plain": [
       "'Interested candidates can apply through our website by submitting their resume and a cover letter.'"
      ]
     },
     "execution_count": 23,
     "metadata": {},
     "output_type": "execute_result"
    }
   ],
   "source": [
    "get_response('How do i apply for an internship')"
   ]
  },
  {
   "cell_type": "code",
   "execution_count": 24,
   "metadata": {},
   "outputs": [
    {
     "data": {
      "text/plain": [
       "'During the internship program at Devsloop Technologies, you will have the opportunity to learn various programming skills depending on the project you are assigned to. Some of the programming skills you may learn include but are not limited to:\\n\\n- Web Development: HTML, CSS, JavaScript, React, Angular, Node.js\\n- Mobile Application Development: Java, Kotlin, Swift, React Native\\n- Artificial Intelligence and Machine Learning: Python, TensorFlow, scikit-learn\\n- Cloud Computing: AWS, Azure, Google'"
      ]
     },
     "execution_count": 24,
     "metadata": {},
     "output_type": "execute_result"
    }
   ],
   "source": [
    "get_response('What programming skills do we learn?')"
   ]
  },
  {
   "cell_type": "code",
   "execution_count": 25,
   "metadata": {},
   "outputs": [
    {
     "data": {
      "text/plain": [
       "'Of course! Devsloop Technologies is a renowned software house committed to delivering cutting-edge software solutions. With a team of experienced professionals, Devsloop Technologies excels in various domains, including web development, mobile application development, AI and machine learning, and cloud computing. Our mission is to empower businesses by providing innovative and efficient technological solutions tailored to meet their unique needs.'"
      ]
     },
     "execution_count": 25,
     "metadata": {},
     "output_type": "execute_result"
    }
   ],
   "source": [
    "get_response('Could you exlpain again please?')"
   ]
  },
  {
   "cell_type": "code",
   "execution_count": 26,
   "metadata": {},
   "outputs": [
    {
     "data": {
      "text/plain": [
       "'During the internship program at Devsloop Technologies, you will have the opportunity to learn various programming skills depending on the project you are assigned to. Some of the programming skills you may learn include but are not limited to:\\n\\n- Web Development: HTML, CSS, JavaScript, React, Angular, Node.js\\n- Mobile Application Development: Java, Kotlin, Swift, React Native\\n- Artificial Intelligence and Machine Learning: Python, TensorFlow, scikit-learn\\n- Cloud Computing: AWS, Azure, Google'"
      ]
     },
     "execution_count": 26,
     "metadata": {},
     "output_type": "execute_result"
    }
   ],
   "source": [
    "get_response('What about programming languages')"
   ]
  },
  {
   "cell_type": "code",
   "execution_count": 27,
   "metadata": {},
   "outputs": [
    {
     "data": {
      "text/plain": [
       "\"You're welcome! If you have any more questions, feel free to ask.\""
      ]
     },
     "execution_count": 27,
     "metadata": {},
     "output_type": "execute_result"
    }
   ],
   "source": [
    "get_response('Thank you for your help')"
   ]
  },
  {
   "cell_type": "code",
   "execution_count": null,
   "metadata": {},
   "outputs": [],
   "source": []
  }
 ],
 "metadata": {
  "kernelspec": {
   "display_name": "Python 3",
   "language": "python",
   "name": "python3"
  },
  "language_info": {
   "codemirror_mode": {
    "name": "ipython",
    "version": 3
   },
   "file_extension": ".py",
   "mimetype": "text/x-python",
   "name": "python",
   "nbconvert_exporter": "python",
   "pygments_lexer": "ipython3",
   "version": "3.12.3"
  }
 },
 "nbformat": 4,
 "nbformat_minor": 2
}
