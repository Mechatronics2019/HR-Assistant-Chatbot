{
 "cells": [
  {
   "cell_type": "markdown",
   "metadata": {},
   "source": [
    "Importing OpenAI API Key"
   ]
  },
  {
   "cell_type": "code",
   "execution_count": null,
   "metadata": {},
   "outputs": [],
   "source": [
    "import os\n",
    "from dotenv import load_dotenv,find_dotenv\n",
    "from langchain_openai import OpenAI\n",
    "\n",
    "load_dotenv(find_dotenv())\n",
    "OpenAI(api_key = os.environ.get('OPENAI_API_KEY'))"
   ]
  },
  {
   "cell_type": "markdown",
   "metadata": {},
   "source": [
    "Loading & Splitting Documents into Chunks"
   ]
  },
  {
   "cell_type": "code",
   "execution_count": 2,
   "metadata": {},
   "outputs": [],
   "source": [
    "from langchain.document_loaders import PyPDFDirectoryLoader\n",
    "from langchain.text_splitter import RecursiveCharacterTextSplitter\n",
    "\n",
    "def load_split_document():\n",
    "    loader = PyPDFDirectoryLoader('Documents/')\n",
    "    print\n",
    "    docs = loader.load_and_split(RecursiveCharacterTextSplitter(separators=['\\n\\n','\\n','.',','],\n",
    "                                                chunk_size = 600,\n",
    "                                                chunk_overlap = 100)\n",
    "                                        )\n",
    "    return docs"
   ]
  },
  {
   "cell_type": "markdown",
   "metadata": {},
   "source": [
    "Converting Text Data to Vectors and Storing in Vector-DataBase "
   ]
  },
  {
   "cell_type": "code",
   "execution_count": null,
   "metadata": {},
   "outputs": [],
   "source": [
    "from langchain.vectorstores.chroma import Chroma\n",
    "from langchain_openai.embeddings import OpenAIEmbeddings\n",
    "# from langchain.vectorstores.faiss import FAISS\n",
    "\n",
    "docs = load_split_document() ## LOADING DATA AND SPLITTING INTO CHUNKS\n",
    "vector_store = Chroma.from_documents(documents=docs ,embedding=OpenAIEmbeddings()) ### SAVING DATA INTO DB\n",
    "# vector_store = FAISS.from_documents(documents=docs ,embedding=OpenAIEmbeddings()) ### SAVING DATA INTO DB"
   ]
  },
  {
   "cell_type": "markdown",
   "metadata": {},
   "source": [
    "Adding Memory Element to the Chatbot"
   ]
  },
  {
   "cell_type": "code",
   "execution_count": 11,
   "metadata": {},
   "outputs": [],
   "source": [
    "from langchain.memory import ConversationBufferMemory\n",
    "memory = ConversationBufferMemory(\n",
    "    memory_key=\"chat_history\",\n",
    "    return_messages=True\n",
    ")"
   ]
  },
  {
   "cell_type": "markdown",
   "metadata": {},
   "source": [
    "Defining Custom Prompt for our chatbot"
   ]
  },
  {
   "cell_type": "code",
   "execution_count": 12,
   "metadata": {},
   "outputs": [],
   "source": [
    "from langchain.prompts import PromptTemplate\n",
    "template = '''You are a HR Assistance Chatbot.You have to answer based on the given question and relevant context only.\n",
    "                If you have been provided with the Chathistory make sure to only use to maintain flow of conversation.Do not mix context and Chathistory Together.\n",
    "                Do not make things on your own. If the required information is not in the data provided just respond with I'm Sorry,I Don't Know. I am just an HR assisstant\n",
    "Context : {context}\n",
    "---\n",
    "Chathistory : {chat_history}\n",
    "---\n",
    "Question :{question}\n",
    "---\n",
    "Answer :\n",
    "'''\n",
    "prompt_template = PromptTemplate(input_variables=['context','question','chat_history'],template=template)"
   ]
  },
  {
   "cell_type": "code",
   "execution_count": 13,
   "metadata": {},
   "outputs": [],
   "source": [
    "from langchain.chains.conversational_retrieval.base import ConversationalRetrievalChain\n",
    "from langchain_openai import ChatOpenAI\n",
    "\n",
    "llm = ChatOpenAI(temperature=0,max_tokens=100)\n",
    "chain = ConversationalRetrievalChain.from_llm(llm,memory = memory,retriever=vector_store.as_retriever(search_type=\"mmr\",search_kwargs={'k': 2,'fetch_k': 4})\n",
    "                                                ,combine_docs_chain_kwargs={\"prompt\": prompt_template})"
   ]
  },
  {
   "cell_type": "markdown",
   "metadata": {},
   "source": [
    "Testing"
   ]
  },
  {
   "cell_type": "code",
   "execution_count": 14,
   "metadata": {},
   "outputs": [
    {
     "data": {
      "text/plain": [
       "\"I'm Sorry, I Don't Know. I am just an HR assistant.\""
      ]
     },
     "execution_count": 14,
     "metadata": {},
     "output_type": "execute_result"
    }
   ],
   "source": [
    "chain.invoke({'question':'What do you know about fluid dynamics'})['answer']"
   ]
  },
  {
   "cell_type": "code",
   "execution_count": 15,
   "metadata": {},
   "outputs": [
    {
     "data": {
      "text/plain": [
       "'Devsloop Technologies is a renowned software house committed to delivering cutting-edge software solutions. With a team of experienced professionals, Devsloop Technologies excels in various domains, including web development, mobile application development, AI and machine learning, and cloud computing. Their mission is to empower businesses by providing innovative and efficient technological solutions tailored to meet their unique needs. They also prioritize work-life balance, recognition and rewards for employees, and social activities to foster a sense of community.'"
      ]
     },
     "execution_count": 15,
     "metadata": {},
     "output_type": "execute_result"
    }
   ],
   "source": [
    "chain.run({'question':'What do you know about Devsloop'})"
   ]
  },
  {
   "cell_type": "code",
   "execution_count": 16,
   "metadata": {},
   "outputs": [
    {
     "data": {
      "text/plain": [
       "'Interested candidates can apply for an internship at Devsloop Technologies through our website by submitting their resume and a cover letter.'"
      ]
     },
     "execution_count": 16,
     "metadata": {},
     "output_type": "execute_result"
    }
   ],
   "source": [
    "chain.run({'question':'How do i apply for an internship?'})"
   ]
  },
  {
   "cell_type": "code",
   "execution_count": 17,
   "metadata": {},
   "outputs": [
    {
     "data": {
      "text/plain": [
       "'After submitting your resume and cover letter on the website to apply for an internship at Devsloop Technologies, the next step would be the selection process. Shortlisted candidates will be invited for an interview and technical assessment to further evaluate their qualifications and fit for the internship position.'"
      ]
     },
     "execution_count": 17,
     "metadata": {},
     "output_type": "execute_result"
    }
   ],
   "source": [
    "chain.run({'question':'After this what is the procedure?'})"
   ]
  },
  {
   "cell_type": "code",
   "execution_count": 18,
   "metadata": {},
   "outputs": [
    {
     "data": {
      "text/plain": [
       "'During an internship at Devsloop Technologies, interns typically acquire practical skills in software development, project management, problem-solving, teamwork, communication, and time management. They also gain hands-on experience with the latest technologies and tools used in the software industry.'"
      ]
     },
     "execution_count": 18,
     "metadata": {},
     "output_type": "execute_result"
    }
   ],
   "source": [
    "chain.run({'question':'What skills do we learn during Internship'})"
   ]
  },
  {
   "cell_type": "code",
   "execution_count": 19,
   "metadata": {},
   "outputs": [
    {
     "data": {
      "text/plain": [
       "'During an internship at Devsloop Technologies, interns typically learn programming skills related to software development, such as coding in languages like Java, Python, C++, or JavaScript. They also gain experience in working with databases, debugging, testing, and version control systems.'"
      ]
     },
     "execution_count": 19,
     "metadata": {},
     "output_type": "execute_result"
    }
   ],
   "source": [
    "chain.run({'question':'What about programming skills'})"
   ]
  },
  {
   "cell_type": "markdown",
   "metadata": {},
   "source": [
    "Checking Memory of Chatbot"
   ]
  },
  {
   "cell_type": "code",
   "execution_count": 20,
   "metadata": {},
   "outputs": [
    {
     "data": {
      "text/plain": [
       "[HumanMessage(content='What do you know about fluid dynamics'),\n",
       " AIMessage(content=\"I'm Sorry, I Don't Know. I am just an HR assistant.\"),\n",
       " HumanMessage(content='What do you know about Devsloop'),\n",
       " AIMessage(content='Devsloop Technologies is a renowned software house committed to delivering cutting-edge software solutions. With a team of experienced professionals, Devsloop Technologies excels in various domains, including web development, mobile application development, AI and machine learning, and cloud computing. Their mission is to empower businesses by providing innovative and efficient technological solutions tailored to meet their unique needs. They also prioritize work-life balance, recognition and rewards for employees, and social activities to foster a sense of community.'),\n",
       " HumanMessage(content='How do i apply for an internship?'),\n",
       " AIMessage(content='Interested candidates can apply for an internship at Devsloop Technologies through our website by submitting their resume and a cover letter.'),\n",
       " HumanMessage(content='After this what is the procedure?'),\n",
       " AIMessage(content='After submitting your resume and cover letter on the website to apply for an internship at Devsloop Technologies, the next step would be the selection process. Shortlisted candidates will be invited for an interview and technical assessment to further evaluate their qualifications and fit for the internship position.'),\n",
       " HumanMessage(content='What skills do we learn during Internship'),\n",
       " AIMessage(content='During an internship at Devsloop Technologies, interns typically acquire practical skills in software development, project management, problem-solving, teamwork, communication, and time management. They also gain hands-on experience with the latest technologies and tools used in the software industry.'),\n",
       " HumanMessage(content='What about programming skills'),\n",
       " AIMessage(content='During an internship at Devsloop Technologies, interns typically learn programming skills related to software development, such as coding in languages like Java, Python, C++, or JavaScript. They also gain experience in working with databases, debugging, testing, and version control systems.')]"
      ]
     },
     "execution_count": 20,
     "metadata": {},
     "output_type": "execute_result"
    }
   ],
   "source": [
    "chain.memory.buffer"
   ]
  },
  {
   "cell_type": "code",
   "execution_count": null,
   "metadata": {},
   "outputs": [],
   "source": []
  }
 ],
 "metadata": {
  "kernelspec": {
   "display_name": "Python 3",
   "language": "python",
   "name": "python3"
  },
  "language_info": {
   "codemirror_mode": {
    "name": "ipython",
    "version": 3
   },
   "file_extension": ".py",
   "mimetype": "text/x-python",
   "name": "python",
   "nbconvert_exporter": "python",
   "pygments_lexer": "ipython3",
   "version": "3.12.3"
  }
 },
 "nbformat": 4,
 "nbformat_minor": 2
}
